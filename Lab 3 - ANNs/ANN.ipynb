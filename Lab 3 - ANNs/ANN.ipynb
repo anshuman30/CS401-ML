{
 "cells": [
  {
   "cell_type": "code",
   "execution_count": 5,
   "metadata": {},
   "outputs": [],
   "source": [
    "# import statements\n",
    "import numpy as np \n",
    "import pandas as pd \n",
    "import matplotlib.pyplot as plt \n",
    "from tqdm import tqdm"
   ]
  },
  {
   "cell_type": "code",
   "execution_count": 6,
   "metadata": {},
   "outputs": [],
   "source": [
    "def sigmoid(x):\n",
    "    return 1 / (1 + np.exp(-x))"
   ]
  },
  {
   "cell_type": "code",
   "execution_count": 7,
   "metadata": {},
   "outputs": [],
   "source": [
    "def predict(X, y, w1, w2, verbose=True, bias=True, show_all=False):\n",
    "    y_pred = [] \n",
    "    \n",
    "    for x in X:\n",
    "        h = sigmoid(x.dot(w1.T))\n",
    "        if (bias):\n",
    "            temp_h = np.append(np.ones(1), h) \n",
    "        else:\n",
    "            temp_h = h\n",
    "        o = sigmoid(temp_h.dot(w2.T))\n",
    "        \n",
    "        y_pred.append(o)\n",
    "\n",
    "    y = np.argmax(y, axis=1)\n",
    "    y_pred = np.argmax(y_pred, axis=1)\n",
    "\n",
    "        accuracy = np.mean(y_pred==y)\n",
    "    return accuracy"
   ]
  },
  {
   "cell_type": "code",
   "execution_count": 8,
   "metadata": {},
   "outputs": [],
   "source": [
    "# We use a parameters dictionary becuase there are so many parameters to pass\n",
    "def backprop(X, Y, params):\n",
    "    \n",
    "    # extract parameters\n",
    "    X_test = params.get('X_test', None) \n",
    "    Y_test = params.get('Y_test', None) \n",
    "    n_hid = params.get('n_hid', 2)      \n",
    "    lr = params.get('lr', 0.2)          \n",
    "    w_init = params.get('w_init', None) \n",
    "    w_scale = params.get('w_scale', 1)  \n",
    "    n_iters = params.get('n_iters', 10) \n",
    "    batch = params.get('batch', False)  \n",
    "    bias = params.get('bias', True)     \n",
    "    \n",
    "    if bias:\n",
    "        ones_col = np.ones((X.shape[0],1))\n",
    "        X = np.concatenate((ones_col,X), axis=1)\n",
    "    \n",
    "    bias_int = 1 if bias else 0\n",
    "    \n",
    "    if w_init is not None:\n",
    "        w1 = np.ones((n_hid,X.shape[1])) * w_init\n",
    "        w2 = np.ones((Y.shape[1],n_hid+bias_int)) * w_init\n",
    "    else:\n",
    "        w1 = np.random.uniform(size=(n_hid,X.shape[1])) / w_scale\n",
    "        w2 = np.random.uniform(size=(Y.shape[1],n_hid+bias_int)) / w_scale\n",
    "            \n",
    "    accuracies = []\n",
    "    test_accuracies = []\n",
    "    \n",
    "    for i in tqdm(range(n_iters)):\n",
    "        \n",
    "        history_w1 = [] \n",
    "        history_w2 = []\n",
    "        \n",
    "        for idx, (x,y) in enumerate(zip(X,Y)):\n",
    "            h = sigmoid(x.dot(w1.T))\n",
    "            if bias:\n",
    "                temp_h = np.append(np.ones(1), h) \n",
    "            else:\n",
    "                temp_h = h\n",
    "            o = sigmoid(temp_h.dot(w2.T))\n",
    "            \n",
    "            do = o*(1-o)*(y-o)\n",
    "            dh = h * (1-h) * do.dot(w2[:,bias_int:]) # skip bias dim if it exists\n",
    "            \n",
    "            dw2 = lr * do.reshape(-1,1) * temp_h\n",
    "            dw1 = lr * dh.reshape(-1,1) *(x) \n",
    "\n",
    "            if batch == True:\n",
    "                history_w1.append(dw1)\n",
    "                history_w2.append(dw2)\n",
    "            \n",
    "            else:\n",
    "                w2 += dw2\n",
    "                w1 += dw1\n",
    "                \n",
    "        if batch is True:\n",
    "            w2 += sum(history_w2)\n",
    "            w1 += sum(history_w1)\n",
    "\n",
    "        accuracies.append(predict(X,Y,w1,w2,verbose=False,bias=bias))\n",
    "        \n",
    "        if X_test is not None:\n",
    "            test_accuracies.append(predict(X_test,Y_test,w1,w2,verbose=False,bias=bias))\n",
    "      \n",
    "    if X_test is not None:\n",
    "        return w1, w2, accuracies, test_accuracies\n",
    "    else:\n",
    "        return w1, w2, accuracies "
   ]
  },
  {
   "cell_type": "markdown",
   "metadata": {},
   "source": [
    "### 1. Running on XOR Truth Table\n",
    "We test our functions on 2 bit XOR truth table. Note that test data will be same as train data so training accuracy is equivalent to testing accuracy."
   ]
  },
  {
   "cell_type": "code",
   "execution_count": 9,
   "metadata": {},
   "outputs": [
    {
     "data": {
      "image/png": "[encoded data removed]",
      "text/plain": [
       "<Figure size 432x288 with 1 Axes>"
      ]
     },
     "metadata": {
      "needs_background": "light"
     },
     "output_type": "display_data"
    }
   ],
   "source": [
    "TT = np.asarray([[0,0,0],    \n",
    "                 [0,1,1], \n",
    "                 [1,0,1],\n",
    "                 [1,1,0]])\n",
    "\n",
    "\n",
    "X = TT[:,:2]\n",
    "y = TT[:,-1]\n",
    "    \n",
    "plt.title(\"Expected Truth Table\")\n",
    "plt.xlabel('X1')\n",
    "plt.ylabel('X2')\n",
    "    \n",
    "X_zeros = X[y==0,:]\n",
    "X_ones  = X[y==1,:]\n",
    "\n",
    "plt.scatter(X_zeros[:,0], X_zeros[:,1], label = '0')\n",
    "plt.scatter(X_ones[:,0], X_ones[:,1], label = '1')  \n",
    "plt.legend(loc='center')\n",
    "\n",
    "plt.show()"
   ]
  },
  {
   "cell_type": "code",
   "execution_count": 10,
   "metadata": {},
   "outputs": [
    {
     "name": "stderr",
     "output_type": "stream",
     "text": [
      "100%|██████████| 10000/10000 [00:02<00:00, 3626.30it/s]\n"
     ]
    },
    {
     "data": {
      "image/png": "[encoded data removed]",
      "text/plain": [
       "<Figure size 432x288 with 1 Axes>"
      ]
     },
     "metadata": {
      "needs_background": "light"
     },
     "output_type": "display_data"
    },
    {
     "name": "stdout",
     "output_type": "stream",
     "text": [
      "Highest accuracy => 1.0\n",
      "Final Accuracy => 1.0\n",
      "[[ 3.05050044  6.39399952 -6.13898707]\n",
      " [-3.59446521  6.69147009 -6.85112036]] [[-3.54171113  7.46033187 -7.69206585]\n",
      " [ 3.54726735 -7.47193344  7.70405844]]\n"
     ]
    }
   ],
   "source": [
    "# Hyperparameters - tune here\n",
    "params = {\n",
    "    'n_hid'   : 2,\n",
    "    'lr'      : 0.2,          \n",
    "    'w_init'  : None,\n",
    "    'w_scale' : 1,\n",
    "    'n_iters' : 10000, \n",
    "    'batch'   : False, \n",
    "    'bias'    : True\n",
    "}\n",
    "\n",
    "X = TT[:,:2] # first two columns\n",
    "y = TT[:,-1] # last column\n",
    "\n",
    "y_OH = np.zeros((y.size, y.max()+1))\n",
    "y_OH[np.arange(y.size),y.reshape(-1)] = 1\n",
    "\n",
    "w1,w2,accuracies = backprop(X,y_OH,params)\n",
    "\n",
    "epochs = np.arange(1, len(accuracies)+1)\n",
    "plt.plot(epochs, accuracies)\n",
    "plt.title('Accuracy for Truth Table (Test and Train same)')\n",
    "plt.xlabel('Iterations')\n",
    "plt.show()"
   ]
  }
 ],
 "metadata": {
  "kernelspec": {
   "display_name": "Python 3",
   "language": "python",
   "name": "python3"
  },
  "language_info": {
   "codemirror_mode": {
    "name": "ipython",
    "version": 3
   },
   "file_extension": ".py",
   "mimetype": "text/x-python",
   "name": "python",
   "nbconvert_exporter": "python",
   "pygments_lexer": "ipython3",
   "version": "3.8.1"
  }
 },
 "nbformat": 4,
 "nbformat_minor": 4
}
